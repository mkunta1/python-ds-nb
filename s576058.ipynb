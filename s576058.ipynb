{
 "cells": [
  {
   "cell_type": "markdown",
   "id": "d56fdb77",
   "metadata": {},
   "source": [
    "#### Mahitha Kunta\n",
    "#### Question 10"
   ]
  },
  {
   "cell_type": "code",
   "execution_count": 1,
   "id": "a828c37d",
   "metadata": {},
   "outputs": [
    {
     "name": "stdout",
     "output_type": "stream",
     "text": [
      "*     *\n",
      "**   **\n",
      "*** ***\n",
      "********\n"
     ]
    }
   ],
   "source": [
    "# Number of rows in the pattern\n",
    "n = 4\n",
    "\n",
    "# Loop for each row\n",
    "for i in range(1, n + 1):\n",
    "    # Left part of the pattern (stars)\n",
    "    left_stars = '*' * i\n",
    "    # Right part of the pattern (stars)\n",
    "    right_stars = '*' * i\n",
    "    # Spaces in between the stars\n",
    "    spaces = ' ' * (2 * (n - i) - 1)\n",
    "    \n",
    "    # Print the left stars, spaces, and right stars\n",
    "    if i == n:\n",
    "        print(left_stars + right_stars)  # For the last row (without spaces in between)\n",
    "    else:\n",
    "        print(left_stars + spaces + right_stars)"
   ]
  }
 ],
 "metadata": {
  "kernelspec": {
   "display_name": "Python 3",
   "language": "python",
   "name": "python3"
  },
  "language_info": {
   "codemirror_mode": {
    "name": "ipython",
    "version": 3
   },
   "file_extension": ".py",
   "mimetype": "text/x-python",
   "name": "python",
   "nbconvert_exporter": "python",
   "pygments_lexer": "ipython3",
   "version": "3.12.5"
  }
 },
 "nbformat": 4,
 "nbformat_minor": 5
}
